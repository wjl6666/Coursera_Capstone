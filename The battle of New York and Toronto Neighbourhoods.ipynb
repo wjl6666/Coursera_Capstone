{
    "cells": [
        {
            "cell_type": "markdown",
            "metadata": {
                "collapsed": true
            },
            "source": "# Introduction"
        },
        {
            "cell_type": "markdown",
            "metadata": {},
            "source": "In Module 3, we explored New York City and the city of Toronto and segmented and clustered their neighborhoods. Both cities are very diverse and are the financial capitals of their respective countries. In this project, I would like to compare the neighborhoods of the two cities and determine how similar or dissimilar they are. "
        },
        {
            "cell_type": "markdown",
            "metadata": {},
            "source": "# Data Description"
        },
        {
            "cell_type": "markdown",
            "metadata": {},
            "source": "For this project, I will utilize the services of Foursquare API to explore the data of different neighborhoods in the two cities. In this project, I would like to analyze different venues such as coffee shops, hotels, restauarnts, theaters, parks, museums, etc. I will use one Borough from each city, Manhattan from New York and Downtown Toronto from Toronto. With the analysis methods that we learnt from this course, I would liket to compare the two neighborhoods and find their similarity and dissimilarity. "
        },
        {
            "cell_type": "code",
            "execution_count": null,
            "metadata": {},
            "outputs": [],
            "source": ""
        }
    ],
    "metadata": {
        "kernelspec": {
            "display_name": "Python 3.7",
            "language": "python",
            "name": "python3"
        },
        "language_info": {
            "codemirror_mode": {
                "name": "ipython",
                "version": 3
            },
            "file_extension": ".py",
            "mimetype": "text/x-python",
            "name": "python",
            "nbconvert_exporter": "python",
            "pygments_lexer": "ipython3",
            "version": "3.7.9"
        }
    },
    "nbformat": 4,
    "nbformat_minor": 1
}