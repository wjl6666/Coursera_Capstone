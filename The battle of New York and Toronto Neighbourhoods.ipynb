{
    "cells": [
        {
            "cell_type": "markdown",
            "metadata": {
                "collapsed": true
            },
            "source": "# Introduction"
        },
        {
            "cell_type": "markdown",
            "metadata": {},
            "source": "In Module 3, we explored New York City and the city of Toronto and segmented and clustered their neighborhoods. Both cities are very diverse and are the financial capitals of their respective countries. In this project, I would like to compare the neighborhoods of the two cities and determine how similar or dissimilar they are. "
        },
        {
            "cell_type": "markdown",
            "metadata": {},
            "source": "# Data Description"
        },
        {
            "cell_type": "markdown",
            "metadata": {},
            "source": "For this project, I will utilize the services of Foursquare API to explore the data of different neighborhoods in the two cities. In this project, I would like to analyze different venues such as coffee shops, hotels, restauarnts, We selected one Borough from each city to analyze their neighborhoods. Manhattan from New York and Downtown Toronto from Toronto. We will use machine learning technique, \u201cClustering\u201d to segment the neighborhoods with similar objects on the basis of each neighborhood data. These objects will be given priority on the basis of foot traffic (activity) in their respective neighborhoods. This will help to locate the tourist\u2019s areas and hubs, and then we can judge the similarity or dissimilarity between two cities on that basis.\u00b6"
        }
    ],
    "metadata": {
        "kernelspec": {
            "display_name": "Python 3.7",
            "language": "python",
            "name": "python3"
        },
        "language_info": {
            "codemirror_mode": {
                "name": "ipython",
                "version": 3
            },
            "file_extension": ".py",
            "mimetype": "text/x-python",
            "name": "python",
            "nbconvert_exporter": "python",
            "pygments_lexer": "ipython3",
            "version": "3.7.9"
        }
    },
    "nbformat": 4,
    "nbformat_minor": 1
}