{
    "cells": [
        {
            "cell_type": "markdown",
            "metadata": {
                "collapsed": true
            },
            "source": "# The battle of New York and Toronto Neighbourhoods"
        },
        {
            "cell_type": "markdown",
            "metadata": {},
            "source": "# Introduction"
        },
        {
            "cell_type": "markdown",
            "metadata": {},
            "source": "In Module 3, we explored New York City and the city of Toronto and segmented and clustered their neighborhoods. Both cities are very diverse and are the financial capitals of their respective countries. In this project, I would like to compare the neighborhoods of the two cities and determine how similar or dissimilar they are."
        },
        {
            "cell_type": "markdown",
            "metadata": {},
            "source": "# Data Description"
        },
        {
            "cell_type": "markdown",
            "metadata": {},
            "source": "For this project, I will utilize the services of Foursquare API to explore the data of different neighborhoods in the two cities. In this project, I would like to analyze different venues such as coffee shops, hotels, restaurants, theaters, parks, museums, etc. I will use one Borough from each city, Manhattan from New York and Downtown Toronto from Toronto. With the analysis methods that we learnt from this course, I would like to compare the two neighborhoods and find their similarity and dissimilarity."
        },
        {
            "cell_type": "markdown",
            "metadata": {},
            "source": "# Methodology"
        },
        {
            "cell_type": "markdown",
            "metadata": {},
            "source": "In this project, I selected one Borough from each city to explore. They are Manhattan from New York and Downtown Toronto from Toronto. The data exploration, analysis and visualization for both boroughs are done in the same way but separately. I will compare the results at the end."
        },
        {
            "cell_type": "markdown",
            "metadata": {},
            "source": "For the analysis of Manhattan, I used a saved data file explored through foursquare API in which we have extracted all the boroughs of New York and then sorted against the concerned borough. Then I explored the Manhattan neighborhoods as venues and venue categories.\n\n"
        },
        {
            "cell_type": "markdown",
            "metadata": {},
            "source": "For Downtown Toronto case, I extracted table of Toronto\u2019s Borough from Wikipedia page. Then I clean the data to meet our requirements. In the cleaning phase, which applied multiple steps including but not limited to, eliminating \u201cNot assigned\u201d values, combine neighborhoods which have same geographical coordinates at each borough and sorted against the concerned borough. For data verification and further exploration, I use Foursquare API to get the coordinates of Downtown Toronto and explore its neighborhoods. The neighborhoods are further characterized as venues and venue categories."
        },
        {
            "cell_type": "markdown",
            "metadata": {},
            "source": "# Results"
        },
        {
            "cell_type": "markdown",
            "metadata": {},
            "source": "After above analysis we can see that both cities have a lot interesting venues for tourists to explore.The neighborhoods are much similar in features like Theaters, opera houses, food places, clubs, museums, parks etc. As far as concern to dissimilarity, it differs in terms of some unique places like historical places and monuments.\n\n"
        },
        {
            "cell_type": "markdown",
            "metadata": {},
            "source": "# Discussion"
        },
        {
            "cell_type": "markdown",
            "metadata": {},
            "source": "From above analysis, we recommend tourist to visit downtown Toronto first. From above maps we can see that there were a lot resources. Tourists can access a lot easily.\nWe also notice that there is some dissimilarity for the two cities. For downtown toronto, there is more historical buildings and venues to explore while Manhattan provided more options like nightclubs.\n"
        },
        {
            "cell_type": "code",
            "execution_count": null,
            "metadata": {},
            "outputs": [],
            "source": ""
        }
    ],
    "metadata": {
        "kernelspec": {
            "display_name": "Python 3.7",
            "language": "python",
            "name": "python3"
        },
        "language_info": {
            "codemirror_mode": {
                "name": "ipython",
                "version": 3
            },
            "file_extension": ".py",
            "mimetype": "text/x-python",
            "name": "python",
            "nbconvert_exporter": "python",
            "pygments_lexer": "ipython3",
            "version": "3.7.9"
        }
    },
    "nbformat": 4,
    "nbformat_minor": 1
}